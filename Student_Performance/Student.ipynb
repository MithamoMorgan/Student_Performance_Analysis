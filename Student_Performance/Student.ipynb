{
 "cells": [
  {
   "cell_type": "markdown",
   "id": "5f993e5c-cb03-42e8-be88-9a071793aacf",
   "metadata": {},
   "source": [
    "# Student Performance Analysis"
   ]
  },
  {
   "cell_type": "code",
   "execution_count": 1,
   "id": "67aa35ae-1f72-4676-b9f4-1d700e488de9",
   "metadata": {},
   "outputs": [],
   "source": [
    "# Import necessary libraries\n",
    "import pandas as pd\n",
    "import numpy as np\n",
    "import matplotlib.pyplot as plt"
   ]
  },
  {
   "cell_type": "code",
   "execution_count": 2,
   "id": "fc9a47f7-8a54-458a-9118-9d551364993d",
   "metadata": {},
   "outputs": [
    {
     "data": {
      "text/html": [
       "<div>\n",
       "<style scoped>\n",
       "    .dataframe tbody tr th:only-of-type {\n",
       "        vertical-align: middle;\n",
       "    }\n",
       "\n",
       "    .dataframe tbody tr th {\n",
       "        vertical-align: top;\n",
       "    }\n",
       "\n",
       "    .dataframe thead th {\n",
       "        text-align: right;\n",
       "    }\n",
       "</style>\n",
       "<table border=\"1\" class=\"dataframe\">\n",
       "  <thead>\n",
       "    <tr style=\"text-align: right;\">\n",
       "      <th></th>\n",
       "      <th>StudentID</th>\n",
       "      <th>Age</th>\n",
       "      <th>Gender</th>\n",
       "      <th>Ethnicity</th>\n",
       "      <th>ParentalEducation</th>\n",
       "      <th>StudyTimeWeekly</th>\n",
       "      <th>Absences</th>\n",
       "      <th>Tutoring</th>\n",
       "      <th>ParentalSupport</th>\n",
       "      <th>Extracurricular</th>\n",
       "      <th>Sports</th>\n",
       "      <th>Music</th>\n",
       "      <th>Volunteering</th>\n",
       "      <th>GPA</th>\n",
       "      <th>GradeClass</th>\n",
       "    </tr>\n",
       "  </thead>\n",
       "  <tbody>\n",
       "    <tr>\n",
       "      <th>0</th>\n",
       "      <td>1001</td>\n",
       "      <td>17</td>\n",
       "      <td>1</td>\n",
       "      <td>0</td>\n",
       "      <td>2</td>\n",
       "      <td>19.833723</td>\n",
       "      <td>7</td>\n",
       "      <td>1</td>\n",
       "      <td>2</td>\n",
       "      <td>0</td>\n",
       "      <td>0</td>\n",
       "      <td>1</td>\n",
       "      <td>0</td>\n",
       "      <td>2.929196</td>\n",
       "      <td>2.0</td>\n",
       "    </tr>\n",
       "    <tr>\n",
       "      <th>1</th>\n",
       "      <td>1002</td>\n",
       "      <td>18</td>\n",
       "      <td>0</td>\n",
       "      <td>0</td>\n",
       "      <td>1</td>\n",
       "      <td>15.408756</td>\n",
       "      <td>0</td>\n",
       "      <td>0</td>\n",
       "      <td>1</td>\n",
       "      <td>0</td>\n",
       "      <td>0</td>\n",
       "      <td>0</td>\n",
       "      <td>0</td>\n",
       "      <td>3.042915</td>\n",
       "      <td>1.0</td>\n",
       "    </tr>\n",
       "    <tr>\n",
       "      <th>2</th>\n",
       "      <td>1003</td>\n",
       "      <td>15</td>\n",
       "      <td>0</td>\n",
       "      <td>2</td>\n",
       "      <td>3</td>\n",
       "      <td>4.210570</td>\n",
       "      <td>26</td>\n",
       "      <td>0</td>\n",
       "      <td>2</td>\n",
       "      <td>0</td>\n",
       "      <td>0</td>\n",
       "      <td>0</td>\n",
       "      <td>0</td>\n",
       "      <td>0.112602</td>\n",
       "      <td>4.0</td>\n",
       "    </tr>\n",
       "    <tr>\n",
       "      <th>3</th>\n",
       "      <td>1004</td>\n",
       "      <td>17</td>\n",
       "      <td>1</td>\n",
       "      <td>0</td>\n",
       "      <td>3</td>\n",
       "      <td>10.028829</td>\n",
       "      <td>14</td>\n",
       "      <td>0</td>\n",
       "      <td>3</td>\n",
       "      <td>1</td>\n",
       "      <td>0</td>\n",
       "      <td>0</td>\n",
       "      <td>0</td>\n",
       "      <td>2.054218</td>\n",
       "      <td>3.0</td>\n",
       "    </tr>\n",
       "    <tr>\n",
       "      <th>4</th>\n",
       "      <td>1005</td>\n",
       "      <td>17</td>\n",
       "      <td>1</td>\n",
       "      <td>0</td>\n",
       "      <td>2</td>\n",
       "      <td>4.672495</td>\n",
       "      <td>17</td>\n",
       "      <td>1</td>\n",
       "      <td>3</td>\n",
       "      <td>0</td>\n",
       "      <td>0</td>\n",
       "      <td>0</td>\n",
       "      <td>0</td>\n",
       "      <td>1.288061</td>\n",
       "      <td>4.0</td>\n",
       "    </tr>\n",
       "  </tbody>\n",
       "</table>\n",
       "</div>"
      ],
      "text/plain": [
       "   StudentID  Age  Gender  Ethnicity  ParentalEducation  StudyTimeWeekly  \\\n",
       "0       1001   17       1          0                  2        19.833723   \n",
       "1       1002   18       0          0                  1        15.408756   \n",
       "2       1003   15       0          2                  3         4.210570   \n",
       "3       1004   17       1          0                  3        10.028829   \n",
       "4       1005   17       1          0                  2         4.672495   \n",
       "\n",
       "   Absences  Tutoring  ParentalSupport  Extracurricular  Sports  Music  \\\n",
       "0         7         1                2                0       0      1   \n",
       "1         0         0                1                0       0      0   \n",
       "2        26         0                2                0       0      0   \n",
       "3        14         0                3                1       0      0   \n",
       "4        17         1                3                0       0      0   \n",
       "\n",
       "   Volunteering       GPA  GradeClass  \n",
       "0             0  2.929196         2.0  \n",
       "1             0  3.042915         1.0  \n",
       "2             0  0.112602         4.0  \n",
       "3             0  2.054218         3.0  \n",
       "4             0  1.288061         4.0  "
      ]
     },
     "execution_count": 2,
     "metadata": {},
     "output_type": "execute_result"
    }
   ],
   "source": [
    "# import data\n",
    "data = pd.read_csv('student_performance_data.csv')\n",
    "data.head()"
   ]
  },
  {
   "cell_type": "markdown",
   "id": "0cf4e098-f81e-4474-8701-a7181b8be508",
   "metadata": {},
   "source": [
    "## Data quality check"
   ]
  },
  {
   "cell_type": "code",
   "execution_count": 3,
   "id": "e8d415cf-27e3-4211-a0bc-828f87701897",
   "metadata": {},
   "outputs": [
    {
     "data": {
      "text/plain": [
       "StudentID            0\n",
       "Age                  0\n",
       "Gender               0\n",
       "Ethnicity            0\n",
       "ParentalEducation    0\n",
       "StudyTimeWeekly      0\n",
       "Absences             0\n",
       "Tutoring             0\n",
       "ParentalSupport      0\n",
       "Extracurricular      0\n",
       "Sports               0\n",
       "Music                0\n",
       "Volunteering         0\n",
       "GPA                  0\n",
       "GradeClass           0\n",
       "dtype: int64"
      ]
     },
     "execution_count": 3,
     "metadata": {},
     "output_type": "execute_result"
    }
   ],
   "source": [
    "# Check for missing values\n",
    "missing = data.isnull().sum()\n",
    "missing"
   ]
  },
  {
   "cell_type": "code",
   "execution_count": 4,
   "id": "b063ab89-ff94-4271-b071-7cc454881dbd",
   "metadata": {},
   "outputs": [
    {
     "data": {
      "text/plain": [
       "0"
      ]
     },
     "execution_count": 4,
     "metadata": {},
     "output_type": "execute_result"
    }
   ],
   "source": [
    "# Checking for duplicates\n",
    "duplicates = data.duplicated().sum()\n",
    "duplicates"
   ]
  },
  {
   "cell_type": "code",
   "execution_count": 5,
   "id": "137a0344-c6c5-493f-ab09-1c14c87ba789",
   "metadata": {},
   "outputs": [],
   "source": [
    "# Format the columns"
   ]
  },
  {
   "cell_type": "code",
   "execution_count": 99,
   "id": "d02f1e03-556d-421f-8883-893842d13860",
   "metadata": {},
   "outputs": [],
   "source": [
    "# Gender,Ethnicity, ParentalEducation,StudyTimeWeekly,GPA,ParentalSupport, Tutoring, Extracurricular, Sports, music and volunteering\n",
    "\n",
    "data['Gender'] = data['Gender'].replace({0:'Male',1:'Female'})\n",
    "data['Ethnicity'] = data['Ethnicity'].replace({0:'Caucasian',1:'African',2:'Asian',3:'Other'})\n",
    "data['ParentalEducation'] = data['ParentalEducation'].replace({0:'None',1:'High School',2:'Some College',3:\"Bachelor's\",4:'Higher'})\n",
    "data['StudyTimeWeekly'] = data['StudyTimeWeekly'].round(2)\n",
    "data['GPA'] = data['GPA'].round(2)\n",
    "data['ParentalSupport'] = data['ParentalSupport'].replace({0:'None',1:'Low',2:'Moderate',3:'High',4:'Very High'})\n",
    "data['Tutoring'] = data['Tutoring'].replace({1:'Yes',0:'No'})\n",
    "data['Extracurricular'] = data['Extracurricular'].replace({1:'Yes',0:'No'})\n",
    "data['Sports'] = data['Sports'].replace({1:'Yes',0:'No'})\n",
    "data['Music'] = data['Music'].replace({1:'Yes',0:'No'})\n",
    "data['Volunteering'] = data['Volunteering'].replace({1:'Yes',0:'No'})"
   ]
  },
  {
   "cell_type": "code",
   "execution_count": 7,
   "id": "198e5799-db62-407e-8594-8a2bb032f6bb",
   "metadata": {},
   "outputs": [
    {
     "data": {
      "text/plain": [
       "StudentID              int64\n",
       "Age                    int64\n",
       "Gender                object\n",
       "Ethnicity             object\n",
       "ParentalEducation     object\n",
       "StudyTimeWeekly      float64\n",
       "Absences               int64\n",
       "Tutoring              object\n",
       "ParentalSupport       object\n",
       "Extracurricular       object\n",
       "Sports                object\n",
       "Music                 object\n",
       "Volunteering          object\n",
       "GPA                  float64\n",
       "GradeClass           float64\n",
       "dtype: object"
      ]
     },
     "execution_count": 7,
     "metadata": {},
     "output_type": "execute_result"
    }
   ],
   "source": [
    "# Validate data type\n",
    "data.dtypes"
   ]
  },
  {
   "cell_type": "code",
   "execution_count": 8,
   "id": "605961f0-579f-4023-999e-4e44e00bd525",
   "metadata": {},
   "outputs": [],
   "source": [
    "# Change GradeClass dtype to integer\n",
    "\n",
    "data['GradeClass'] = data['GradeClass'].astype('int64')\n",
    "data['StudentID'] = data['StudentID'].astype('str')"
   ]
  },
  {
   "cell_type": "code",
   "execution_count": 100,
   "id": "f1b24180-2f4a-4c97-9707-76021d131be7",
   "metadata": {},
   "outputs": [],
   "source": [
    "# Add column grade\n",
    "def grade(x):\n",
    "    if x['GradeClass'] == 0:\n",
    "        return 'A'\n",
    "    elif x['GradeClass'] == 1:\n",
    "        return 'B'\n",
    "    elif x['GradeClass'] == 2:\n",
    "        return 'C'\n",
    "    elif x['GradeClass'] == 3:\n",
    "        return 'D'\n",
    "    else:\n",
    "        return 'F'\n",
    "\n",
    "data['Grade'] = data.apply(grade, axis = 1)"
   ]
  },
  {
   "cell_type": "markdown",
   "id": "559b9e05-6983-4474-927f-d1ac0adb6b98",
   "metadata": {},
   "source": [
    "## Data Analysis"
   ]
  },
  {
   "cell_type": "code",
   "execution_count": 110,
   "id": "24fd8961-bb6d-4a53-9f7a-0cf73f562b10",
   "metadata": {},
   "outputs": [
    {
     "data": {
      "text/html": [
       "<div>\n",
       "<style scoped>\n",
       "    .dataframe tbody tr th:only-of-type {\n",
       "        vertical-align: middle;\n",
       "    }\n",
       "\n",
       "    .dataframe tbody tr th {\n",
       "        vertical-align: top;\n",
       "    }\n",
       "\n",
       "    .dataframe thead th {\n",
       "        text-align: right;\n",
       "    }\n",
       "</style>\n",
       "<table border=\"1\" class=\"dataframe\">\n",
       "  <thead>\n",
       "    <tr style=\"text-align: right;\">\n",
       "      <th></th>\n",
       "      <th>Age</th>\n",
       "      <th>StudyTimeWeekly</th>\n",
       "      <th>Absences</th>\n",
       "      <th>GPA</th>\n",
       "      <th>GradeClass</th>\n",
       "    </tr>\n",
       "  </thead>\n",
       "  <tbody>\n",
       "    <tr>\n",
       "      <th>count</th>\n",
       "      <td>2392.000000</td>\n",
       "      <td>2392.000000</td>\n",
       "      <td>2392.000000</td>\n",
       "      <td>2392.000000</td>\n",
       "      <td>2392.000000</td>\n",
       "    </tr>\n",
       "    <tr>\n",
       "      <th>mean</th>\n",
       "      <td>16.468645</td>\n",
       "      <td>9.772044</td>\n",
       "      <td>14.541388</td>\n",
       "      <td>1.906162</td>\n",
       "      <td>2.983696</td>\n",
       "    </tr>\n",
       "    <tr>\n",
       "      <th>std</th>\n",
       "      <td>1.123798</td>\n",
       "      <td>5.652756</td>\n",
       "      <td>8.467417</td>\n",
       "      <td>0.915192</td>\n",
       "      <td>1.233908</td>\n",
       "    </tr>\n",
       "    <tr>\n",
       "      <th>min</th>\n",
       "      <td>15.000000</td>\n",
       "      <td>0.000000</td>\n",
       "      <td>0.000000</td>\n",
       "      <td>0.000000</td>\n",
       "      <td>0.000000</td>\n",
       "    </tr>\n",
       "    <tr>\n",
       "      <th>25%</th>\n",
       "      <td>15.000000</td>\n",
       "      <td>5.040000</td>\n",
       "      <td>7.000000</td>\n",
       "      <td>1.170000</td>\n",
       "      <td>2.000000</td>\n",
       "    </tr>\n",
       "    <tr>\n",
       "      <th>50%</th>\n",
       "      <td>16.000000</td>\n",
       "      <td>9.710000</td>\n",
       "      <td>15.000000</td>\n",
       "      <td>1.890000</td>\n",
       "      <td>4.000000</td>\n",
       "    </tr>\n",
       "    <tr>\n",
       "      <th>75%</th>\n",
       "      <td>17.000000</td>\n",
       "      <td>14.410000</td>\n",
       "      <td>22.000000</td>\n",
       "      <td>2.620000</td>\n",
       "      <td>4.000000</td>\n",
       "    </tr>\n",
       "    <tr>\n",
       "      <th>max</th>\n",
       "      <td>18.000000</td>\n",
       "      <td>19.980000</td>\n",
       "      <td>29.000000</td>\n",
       "      <td>4.000000</td>\n",
       "      <td>4.000000</td>\n",
       "    </tr>\n",
       "  </tbody>\n",
       "</table>\n",
       "</div>"
      ],
      "text/plain": [
       "               Age  StudyTimeWeekly     Absences          GPA   GradeClass\n",
       "count  2392.000000      2392.000000  2392.000000  2392.000000  2392.000000\n",
       "mean     16.468645         9.772044    14.541388     1.906162     2.983696\n",
       "std       1.123798         5.652756     8.467417     0.915192     1.233908\n",
       "min      15.000000         0.000000     0.000000     0.000000     0.000000\n",
       "25%      15.000000         5.040000     7.000000     1.170000     2.000000\n",
       "50%      16.000000         9.710000    15.000000     1.890000     4.000000\n",
       "75%      17.000000        14.410000    22.000000     2.620000     4.000000\n",
       "max      18.000000        19.980000    29.000000     4.000000     4.000000"
      ]
     },
     "execution_count": 110,
     "metadata": {},
     "output_type": "execute_result"
    }
   ],
   "source": [
    "# Summary\n",
    "data.describe()"
   ]
  },
  {
   "cell_type": "markdown",
   "id": "237a56a7-e0cc-4c55-9463-fb4b66da6d64",
   "metadata": {},
   "source": [
    "### 1:Do parental support has an influence on student performance"
   ]
  },
  {
   "cell_type": "code",
   "execution_count": 105,
   "id": "11ff7ea8-012b-48f6-a6f5-c1f4f787d5f7",
   "metadata": {},
   "outputs": [
    {
     "data": {
      "image/png": "[encoded data removed]",
      "text/plain": [
       "<Figure size 640x480 with 1 Axes>"
      ]
     },
     "metadata": {},
     "output_type": "display_data"
    }
   ],
   "source": [
    "category_group = data.groupby('ParentalSupport').mean(numeric_only = True)['GPA'].sort_values(ascending = False)\n",
    "parental_support = category_group.index\n",
    "avg_gpa = category_group.values\n",
    "plt.xlabel('Parental Support')\n",
    "plt.ylabel('Average GPA')\n",
    "bars = plt.bar(parental_support, avg_gpa, color='gray')\n",
    "\n",
    "for bar in bars:\n",
    "    yval = bar.get_height()\n",
    "    plt.text(bar.get_x() + bar.get_width() / 2, yval + 0.01, round(yval, 2), ha='center', va='bottom')\n",
    "plt.show()"
   ]
  },
  {
   "cell_type": "code",
   "execution_count": 13,
   "id": "1f1d580b-7dcd-46c4-b33a-1412fa6dfd6f",
   "metadata": {},
   "outputs": [],
   "source": [
    "# It is evident that parental support has an influence on student performance"
   ]
  },
  {
   "cell_type": "markdown",
   "id": "b27a8094-4b80-4fee-b190-2ca0703b66ad",
   "metadata": {},
   "source": [
    "### 2:Do the students studying for more hours perform better?"
   ]
  },
  {
   "cell_type": "code",
   "execution_count": 14,
   "id": "1181615f-908c-4782-914b-38db25f0d256",
   "metadata": {},
   "outputs": [
    {
     "name": "stdout",
     "output_type": "stream",
     "text": [
      "The correlation between StudyTimeWeekly and GPA is 0.179.\n"
     ]
    }
   ],
   "source": [
    "correlation = data['StudyTimeWeekly'].corr(data['GPA'])\n",
    "print(f\"The correlation between StudyTimeWeekly and GPA is {round(correlation,3)}.\")"
   ]
  },
  {
   "cell_type": "code",
   "execution_count": 15,
   "id": "221b6f7e-f1fe-4af0-9487-340a0afdc54f",
   "metadata": {},
   "outputs": [],
   "source": [
    "# A correlation of 0.179 suggests that there is some tendency for students who study more hours per week to have slightly higher GPAs.However, the \n",
    "# correlation is weak, implying that study time alone does not strongly predict GPA.Other factors could have a more significant impact on GPA,\n",
    "# therefore it does not mean that studying more directly causes higher GPA. "
   ]
  },
  {
   "cell_type": "code",
   "execution_count": null,
   "id": "7008229f-02f8-4590-80ba-345751ac1107",
   "metadata": {},
   "outputs": [],
   "source": []
  },
  {
   "cell_type": "markdown",
   "id": "9c939c2d-d5f5-4059-b259-9ffeb1164d7b",
   "metadata": {},
   "source": [
    "### 3:How does the parental education affect performance of the student?"
   ]
  },
  {
   "cell_type": "code",
   "execution_count": 16,
   "id": "dbc9cfb7-9741-4c4f-a49d-70f79e4c813a",
   "metadata": {},
   "outputs": [],
   "source": [
    "import statsmodels.api as sm\n",
    "from statsmodels.formula.api import ols"
   ]
  },
  {
   "cell_type": "code",
   "execution_count": 17,
   "id": "71ae3b18-dc3b-4671-a29c-c91b0e22b3c1",
   "metadata": {},
   "outputs": [
    {
     "name": "stdout",
     "output_type": "stream",
     "text": [
      "                          df       sum_sq   mean_sq         F    PR(>F)\n",
      "C(ParentalEducation)     4.0     6.033576  1.508394  1.803323  0.125422\n",
      "Residual              2387.0  1996.612193  0.836453       NaN       NaN\n"
     ]
    }
   ],
   "source": [
    "model = ols('GPA ~ C(ParentalEducation)', data = data).fit()\n",
    "anova_table = sm.stats.anova_lm(model, type = 2)\n",
    "print(anova_table)"
   ]
  },
  {
   "cell_type": "code",
   "execution_count": 18,
   "id": "2fe0522f-8c6d-4916-b245-8c468ca8768a",
   "metadata": {},
   "outputs": [],
   "source": [
    "# Since the p-Value is greater than 0.05 we fail to reject the null hypothesis indicating no significant difference in GPAs among the groups."
   ]
  },
  {
   "cell_type": "code",
   "execution_count": null,
   "id": "4d6ca403-b3b2-460c-a924-4d4d9580bbbd",
   "metadata": {},
   "outputs": [],
   "source": []
  },
  {
   "cell_type": "code",
   "execution_count": 104,
   "id": "8d90acee-79e3-4a1f-ac86-aca946460f9f",
   "metadata": {},
   "outputs": [
    {
     "data": {
      "image/png": "[encoded data removed]",
      "text/plain": [
       "<Figure size 640x480 with 1 Axes>"
      ]
     },
     "metadata": {},
     "output_type": "display_data"
    }
   ],
   "source": [
    "category_group = data.groupby('ParentalEducation').mean(numeric_only = True)['GPA'].sort_values(ascending = False)\n",
    "parental_education = category_group.index\n",
    "avg_gpa = category_group.values\n",
    "bars = plt.bar(parental_education,category_group, color = 'gray')\n",
    "\n",
    "for bar in bars:\n",
    "    yval = bar.get_height()\n",
    "    plt.text(bar.get_x() + bar.get_width() / 2, yval + 0.01, round(yval, 2), ha='center', va='bottom')\n",
    "plt.show()"
   ]
  },
  {
   "cell_type": "code",
   "execution_count": null,
   "id": "e37a937d-076b-4df5-98b9-ed58d218f0fa",
   "metadata": {},
   "outputs": [],
   "source": []
  },
  {
   "cell_type": "markdown",
   "id": "8218d3f3-938f-4b26-8f9f-b8a75eeb50f1",
   "metadata": {},
   "source": [
    "### 4:Is there a significance difference between tutored and non tutored students"
   ]
  },
  {
   "cell_type": "code",
   "execution_count": 103,
   "id": "9877be5b-149d-4591-ac76-d1306ca2536f",
   "metadata": {},
   "outputs": [
    {
     "data": {
      "image/png": "[encoded data removed]",
      "text/plain": [
       "<Figure size 640x480 with 1 Axes>"
      ]
     },
     "metadata": {},
     "output_type": "display_data"
    }
   ],
   "source": [
    "category = data.groupby('Tutoring').mean(numeric_only = True)['GPA'].sort_values(ascending = False)\n",
    "tutoring = category.index\n",
    "avg_gpa = category.values\n",
    "bars = plt.bar(tutoring,avg_gpa,color = 'gray')\n",
    "\n",
    "for bar in bars:\n",
    "    yval = bar.get_height()\n",
    "    plt.text(bar.get_x() + bar.get_width() / 2, yval + 0.01, round(yval, 2), ha='center', va='bottom')\n",
    "plt.show()"
   ]
  },
  {
   "cell_type": "code",
   "execution_count": 21,
   "id": "272fef16-072f-42c1-923e-b341b06e83b6",
   "metadata": {},
   "outputs": [],
   "source": [
    "# Clearly there is a significant difference between tutored and non tutored students.\n",
    "# Tutored students tend to do better than non tutored students"
   ]
  },
  {
   "cell_type": "markdown",
   "id": "10c213ab-c2ac-4ab9-9c78-56d4439bbd23",
   "metadata": {},
   "source": [
    "### 5:Does the absence of the student affect performance?"
   ]
  },
  {
   "cell_type": "code",
   "execution_count": 25,
   "id": "9336792f-ee9d-4321-b78f-1ede83deae5f",
   "metadata": {},
   "outputs": [
    {
     "data": {
      "text/plain": [
       "-0.919"
      ]
     },
     "execution_count": 25,
     "metadata": {},
     "output_type": "execute_result"
    }
   ],
   "source": [
    "correlation = data['Absences'].corr(data['GPA'])\n",
    "round(correlation,3)"
   ]
  },
  {
   "cell_type": "code",
   "execution_count": 24,
   "id": "831249cc-0cec-4196-a836-086643f2febb",
   "metadata": {},
   "outputs": [],
   "source": [
    "# This indicates a strong negative relationship between absences and GPA.This means as one variable increases the other decreases significantly."
   ]
  },
  {
   "cell_type": "code",
   "execution_count": 30,
   "id": "04c3abff-8b39-4126-9d38-cfb7bd9e4a1c",
   "metadata": {},
   "outputs": [
    {
     "data": {
      "image/png": "[encoded data removed]",
      "text/plain": [
       "<Figure size 640x480 with 1 Axes>"
      ]
     },
     "metadata": {},
     "output_type": "display_data"
    }
   ],
   "source": [
    "category = data.groupby('Absences').mean(numeric_only = True)['GPA'].sort_values(ascending = False)\n",
    "absences = category.index\n",
    "gpa = category.values\n",
    "plt.title(\"Absence and GPA relationship\")\n",
    "plt.xlabel(\"Number of absences\")\n",
    "plt.ylabel(\"Average GPA\")\n",
    "plt.plot(absences,gpa)\n",
    "plt.show()"
   ]
  },
  {
   "cell_type": "markdown",
   "id": "4fcb7a98-0190-45e9-aaf7-2e834503d688",
   "metadata": {},
   "source": [
    "### 6:What is the influence of extracurricular activities on student performance ?"
   ]
  },
  {
   "cell_type": "code",
   "execution_count": 36,
   "id": "8bccdb78-e848-4d40-9fd4-b8bbbf9c305c",
   "metadata": {},
   "outputs": [
    {
     "name": "stdout",
     "output_type": "stream",
     "text": [
      "                        df       sum_sq    mean_sq          F    PR(>F)\n",
      "C(Extracurricular)     1.0    17.748245  17.748245  21.370527  0.000004\n",
      "Residual            2390.0  1984.897524   0.830501        NaN       NaN\n"
     ]
    }
   ],
   "source": [
    "import statsmodels.api as sm\n",
    "from statsmodels.formula.api import ols\n",
    "model = ols('GPA ~ C(Extracurricular)',data = data).fit()\n",
    "anova_table_2 = sm.stats.anova_lm(model,type = 2)\n",
    "print(anova_table_2)"
   ]
  },
  {
   "cell_type": "code",
   "execution_count": 37,
   "id": "90418dd8-92a2-44f9-804c-5117d0675379",
   "metadata": {},
   "outputs": [],
   "source": [
    "# Since the p value is less than 0.05 we reject the null hypothesis indicating the effect of the factor is statistically significant."
   ]
  },
  {
   "cell_type": "code",
   "execution_count": 102,
   "id": "69fd2a54-b881-4532-848e-d691e18d2eea",
   "metadata": {},
   "outputs": [
    {
     "data": {
      "image/png": "[encoded data removed]",
      "text/plain": [
       "<Figure size 640x480 with 1 Axes>"
      ]
     },
     "metadata": {},
     "output_type": "display_data"
    }
   ],
   "source": [
    "category = data.groupby('Extracurricular').mean(numeric_only = True)['GPA'].sort_values(ascending = False)\n",
    "extracurricular = category.index\n",
    "avg_gpa = category.values\n",
    "\n",
    "bars = plt.bar(extracurricular,avg_gpa,color = 'gray',width = 0.8)\n",
    "plt.title('Gpa Vs Extracurricular')\n",
    "plt.ylabel('Avg GPA')\n",
    "plt.xlabel('Extracurricular')\n",
    "\n",
    "for bar in bars:\n",
    "    yval = bar.get_height()\n",
    "    plt.text(bar.get_x() + bar.get_width() / 2, yval + 0.01, round(yval, 2), ha='center', va='bottom') \n",
    "plt.show()"
   ]
  },
  {
   "cell_type": "code",
   "execution_count": 57,
   "id": "79a8e744-298a-40bc-996f-44ff8e2cc430",
   "metadata": {},
   "outputs": [],
   "source": [
    "# This is a clear indication that the students performing in extracurricular activities do better than those who don't."
   ]
  },
  {
   "cell_type": "code",
   "execution_count": null,
   "id": "d28c75f5-759a-418a-92f0-059d5459b41d",
   "metadata": {},
   "outputs": [],
   "source": []
  },
  {
   "cell_type": "markdown",
   "id": "938bc2c4-cb73-4446-850d-b3ab2d5a1af4",
   "metadata": {},
   "source": [
    "### 7: Is there a significance difference in gpa between ethnic groups?"
   ]
  },
  {
   "cell_type": "code",
   "execution_count": 107,
   "id": "17b92d20-7819-47eb-9884-b347db63342d",
   "metadata": {},
   "outputs": [
    {
     "name": "stdout",
     "output_type": "stream",
     "text": [
      "                  df       sum_sq   mean_sq         F   PR(>F)\n",
      "C(Ethnicity)     3.0     2.414908  0.804969  0.961022  0.41019\n",
      "Residual      2388.0  2000.230861  0.837618       NaN      NaN\n"
     ]
    }
   ],
   "source": [
    "import statsmodels.api as sm\n",
    "from statsmodels.formula.api import ols\n",
    "model = ols('GPA ~ C(Ethnicity)',data = data).fit()\n",
    "anova_table_2 = sm.stats.anova_lm(model,type = 2)\n",
    "print(anova_table_2)"
   ]
  },
  {
   "cell_type": "code",
   "execution_count": 109,
   "id": "6b3e9097-3de9-4ef3-a1e5-5ad0be74da52",
   "metadata": {},
   "outputs": [],
   "source": [
    "# Since the p value is greater than 0.05 we fail to reject the null hypothesis indicating no significant difference in GPAs among the groups"
   ]
  },
  {
   "cell_type": "markdown",
   "id": "47da2dda-229f-421f-9be4-6567ee09f2bf",
   "metadata": {},
   "source": [
    "### 8:What is the Number of students in each grade category"
   ]
  },
  {
   "cell_type": "code",
   "execution_count": 101,
   "id": "d9b1024b-578e-43bc-811e-9470fb3e46f1",
   "metadata": {},
   "outputs": [
    {
     "data": {
      "image/png": "[encoded data removed]",
      "text/plain": [
       "<Figure size 640x480 with 1 Axes>"
      ]
     },
     "metadata": {},
     "output_type": "display_data"
    }
   ],
   "source": [
    "category = data.groupby('Grade').count()['StudentID']\n",
    "grade = category.index\n",
    "student_number = category.values\n",
    "\n",
    "bars = plt.bar(grade,student_number, color = 'gray')\n",
    "plt.title('Number of students Per Grade category')\n",
    "plt.xlabel('Grade')\n",
    "plt.ylabel('Number of students')\n",
    "\n",
    "for bar in bars:\n",
    "    yval = bar.get_height()\n",
    "    plt.text(bar.get_x() + bar.get_width() / 2, yval + 0.01,round(yval,2),ha = 'center', va = 'bottom')\n",
    "    \n",
    "plt.show()"
   ]
  },
  {
   "cell_type": "code",
   "execution_count": null,
   "id": "e11c4762-0851-4b71-a713-a48939be00d7",
   "metadata": {},
   "outputs": [],
   "source": []
  }
 ],
 "metadata": {
  "kernelspec": {
   "display_name": "Python 3 (ipykernel)",
   "language": "python",
   "name": "python3"
  },
  "language_info": {
   "codemirror_mode": {
    "name": "ipython",
    "version": 3
   },
   "file_extension": ".py",
   "mimetype": "text/x-python",
   "name": "python",
   "nbconvert_exporter": "python",
   "pygments_lexer": "ipython3",
   "version": "3.11.5"
  }
 },
 "nbformat": 4,
 "nbformat_minor": 5
}
